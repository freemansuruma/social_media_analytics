{
 "cells": [
  {
   "cell_type": "code",
   "execution_count": 10,
   "metadata": {
    "collapsed": true
   },
   "outputs": [],
   "source": [
    "#Import dependicies to use\n",
    "import tweepy\n",
    "import json\n",
    "import numpy as np\n",
    "import pandas as pd\n",
    "import matplotlib.pyplot as plt\n",
    "from vaderSentiment.vaderSentiment import SentimentIntensityAnalyzer"
   ]
  },
  {
   "cell_type": "code",
   "execution_count": 11,
   "metadata": {
    "collapsed": true
   },
   "outputs": [],
   "source": [
    "#Analyzer for sentiment analysis\n",
    "analyzer = SentimentIntensityAnalyzer()"
   ]
  },
  {
   "cell_type": "code",
   "execution_count": 12,
   "metadata": {
    "collapsed": true
   },
   "outputs": [],
   "source": [
    "#Authorize twitter account\n",
    "consumer_key = \"Wr8HVqu6PPPotwB3aYLxI2dKg\"\n",
    "consumer_secret = \"fr1Htp7OjsMdxleOf5R3LhSTEbU0PpZvNrrm1BGODQk3s5b1TS\"\n",
    "access_token = \"3029074810-5udMvQvQqmUFkhRk5gTuMhXlkyzyAnPnQiOa9JQ\"\n",
    "access_token_secret = \"s19MHBizwdEumNHhKn5yiVfVM38zeWVx5x83MtA49Rn2m\"\n",
    "\n",
    "auth = tweepy.OAuthHandler(consumer_key, consumer_secret)\n",
    "auth.set_access_token(access_token, access_token_secret)\n",
    "api = tweepy.API(auth, parser=tweepy.parsers.JSONParser())"
   ]
  },
  {
   "cell_type": "code",
   "execution_count": 13,
   "metadata": {
    "collapsed": true
   },
   "outputs": [],
   "source": [
    "#Set the name of the twitter accounts you would like to analyze and set empty dictionary to hold compound sentiment data\n",
    "target_accounts = ('@BBC','@CNN','@CBS','@FoxNews','@nytimes')\n",
    "sentiment_list = {}"
   ]
  },
  {
   "cell_type": "code",
   "execution_count": 14,
   "metadata": {},
   "outputs": [
    {
     "data": {
      "text/html": [
       "<div>\n",
       "<style>\n",
       "    .dataframe thead tr:only-child th {\n",
       "        text-align: right;\n",
       "    }\n",
       "\n",
       "    .dataframe thead th {\n",
       "        text-align: left;\n",
       "    }\n",
       "\n",
       "    .dataframe tbody tr th {\n",
       "        vertical-align: top;\n",
       "    }\n",
       "</style>\n",
       "<table border=\"1\" class=\"dataframe\">\n",
       "  <thead>\n",
       "    <tr style=\"text-align: right;\">\n",
       "      <th></th>\n",
       "      <th>Account</th>\n",
       "      <th>Tweet text</th>\n",
       "      <th>Date</th>\n",
       "      <th>Positive Score</th>\n",
       "      <th>Negative Score</th>\n",
       "      <th>Neutral Score</th>\n",
       "      <th>Compound Score</th>\n",
       "    </tr>\n",
       "  </thead>\n",
       "  <tbody>\n",
       "  </tbody>\n",
       "</table>\n",
       "</div>"
      ],
      "text/plain": [
       "Empty DataFrame\n",
       "Columns: [Account, Tweet text, Date, Positive Score, Negative Score, Neutral Score, Compound Score]\n",
       "Index: []"
      ]
     },
     "execution_count": 14,
     "metadata": {},
     "output_type": "execute_result"
    }
   ],
   "source": [
    "#Create dataframe to hold the tweet data and export to excel\n",
    "media_sentiment_df = pd.DataFrame()\n",
    "media_sentiment_df['Account'] = ''\n",
    "media_sentiment_df['Tweet text'] = ''\n",
    "media_sentiment_df['Date'] = ''\n",
    "media_sentiment_df['Positive Score'] = ''\n",
    "media_sentiment_df['Negative Score'] = ''\n",
    "media_sentiment_df['Neutral Score'] = ''\n",
    "media_sentiment_df['Compound Score'] = ''\n",
    "media_sentiment_df"
   ]
  },
  {
   "cell_type": "code",
   "execution_count": 18,
   "metadata": {},
   "outputs": [],
   "source": [
    "#Fetch data from twitter and loop through the text to find the sentiment for each account and store in a list\n",
    "for account in target_accounts:\n",
    "    compound_list = []\n",
    "    negative_list = []\n",
    "    positive_list = []\n",
    "    neutral_list = []\n",
    "    date_list = []\n",
    "    text_list = []\n",
    "    name_list = []\n",
    "    public_tweets = api.user_timeline(account,count=100)\n",
    "    for tweet in public_tweets:\n",
    "        text = tweet['text']\n",
    "        date = tweet['created_at']\n",
    "        user = tweet['user']['name']\n",
    "        \n",
    "        compound = analyzer.polarity_scores(text)[\"compound\"]\n",
    "        neg = analyzer.polarity_scores(text)['neg']\n",
    "        pos = analyzer.polarity_scores(text)['pos']\n",
    "        neu = analyzer.polarity_scores(text)['neu']\n",
    "        compound_list.append(compound)\n",
    "        negative_list.append(neg)\n",
    "        positive_list.append(pos)\n",
    "        neutral_list.append(neu)\n",
    "        date_list.append(date)\n",
    "        text_list.append(text)\n",
    "        name_list.append(user)\n",
    "        sentiment_list[account] = compound_list\n",
    "        "
   ]
  },
  {
   "cell_type": "code",
   "execution_count": 19,
   "metadata": {},
   "outputs": [
    {
     "data": {
      "text/html": [
       "<div>\n",
       "<style>\n",
       "    .dataframe thead tr:only-child th {\n",
       "        text-align: right;\n",
       "    }\n",
       "\n",
       "    .dataframe thead th {\n",
       "        text-align: left;\n",
       "    }\n",
       "\n",
       "    .dataframe tbody tr th {\n",
       "        vertical-align: top;\n",
       "    }\n",
       "</style>\n",
       "<table border=\"1\" class=\"dataframe\">\n",
       "  <thead>\n",
       "    <tr style=\"text-align: right;\">\n",
       "      <th></th>\n",
       "      <th>Account</th>\n",
       "      <th>Tweet text</th>\n",
       "      <th>Date</th>\n",
       "      <th>Positive Score</th>\n",
       "      <th>Negative Score</th>\n",
       "      <th>Neutral Score</th>\n",
       "      <th>Compound Score</th>\n",
       "    </tr>\n",
       "  </thead>\n",
       "  <tbody>\n",
       "    <tr>\n",
       "      <th>0</th>\n",
       "      <td>The New York Times</td>\n",
       "      <td>Puerto Rico is bracing for another blow: a for...</td>\n",
       "      <td>Sat Dec 16 20:51:06 +0000 2017</td>\n",
       "      <td>0.000</td>\n",
       "      <td>0.086</td>\n",
       "      <td>0.914</td>\n",
       "      <td>-0.1280</td>\n",
       "    </tr>\n",
       "    <tr>\n",
       "      <th>1</th>\n",
       "      <td>The New York Times</td>\n",
       "      <td>Opinion: The tax bill is a consequence of the ...</td>\n",
       "      <td>Sat Dec 16 20:36:06 +0000 2017</td>\n",
       "      <td>0.151</td>\n",
       "      <td>0.000</td>\n",
       "      <td>0.849</td>\n",
       "      <td>0.4939</td>\n",
       "    </tr>\n",
       "    <tr>\n",
       "      <th>2</th>\n",
       "      <td>The New York Times</td>\n",
       "      <td>It would be fair to argue that the internet wa...</td>\n",
       "      <td>Sat Dec 16 20:21:00 +0000 2017</td>\n",
       "      <td>0.071</td>\n",
       "      <td>0.283</td>\n",
       "      <td>0.647</td>\n",
       "      <td>-0.7832</td>\n",
       "    </tr>\n",
       "    <tr>\n",
       "      <th>3</th>\n",
       "      <td>The New York Times</td>\n",
       "      <td>According to scholars of American history, the...</td>\n",
       "      <td>Sat Dec 16 20:19:00 +0000 2017</td>\n",
       "      <td>0.000</td>\n",
       "      <td>0.121</td>\n",
       "      <td>0.879</td>\n",
       "      <td>-0.2960</td>\n",
       "    </tr>\n",
       "    <tr>\n",
       "      <th>4</th>\n",
       "      <td>The New York Times</td>\n",
       "      <td>For the record, Classical beat Canton https://...</td>\n",
       "      <td>Sat Dec 16 20:15:00 +0000 2017</td>\n",
       "      <td>0.000</td>\n",
       "      <td>0.000</td>\n",
       "      <td>1.000</td>\n",
       "      <td>0.0000</td>\n",
       "    </tr>\n",
       "  </tbody>\n",
       "</table>\n",
       "</div>"
      ],
      "text/plain": [
       "              Account                                         Tweet text  \\\n",
       "0  The New York Times  Puerto Rico is bracing for another blow: a for...   \n",
       "1  The New York Times  Opinion: The tax bill is a consequence of the ...   \n",
       "2  The New York Times  It would be fair to argue that the internet wa...   \n",
       "3  The New York Times  According to scholars of American history, the...   \n",
       "4  The New York Times  For the record, Classical beat Canton https://...   \n",
       "\n",
       "                             Date  Positive Score  Negative Score  \\\n",
       "0  Sat Dec 16 20:51:06 +0000 2017           0.000           0.086   \n",
       "1  Sat Dec 16 20:36:06 +0000 2017           0.151           0.000   \n",
       "2  Sat Dec 16 20:21:00 +0000 2017           0.071           0.283   \n",
       "3  Sat Dec 16 20:19:00 +0000 2017           0.000           0.121   \n",
       "4  Sat Dec 16 20:15:00 +0000 2017           0.000           0.000   \n",
       "\n",
       "   Neutral Score  Compound Score  \n",
       "0          0.914         -0.1280  \n",
       "1          0.849          0.4939  \n",
       "2          0.647         -0.7832  \n",
       "3          0.879         -0.2960  \n",
       "4          1.000          0.0000  "
      ]
     },
     "execution_count": 19,
     "metadata": {},
     "output_type": "execute_result"
    }
   ],
   "source": [
    "media_sentiment_df['Account'] = name_list\n",
    "media_sentiment_df['Tweet text'] = text_list\n",
    "media_sentiment_df['Date'] = date_list\n",
    "media_sentiment_df['Positive Score'] = positive_list\n",
    "media_sentiment_df['Negative Score'] = negative_list\n",
    "media_sentiment_df['Neutral Score'] = neutral_list\n",
    "media_sentiment_df['Compound Score'] = compound_list\n",
    "media_sentiment_df.head()"
   ]
  },
  {
   "cell_type": "code",
   "execution_count": 23,
   "metadata": {
    "collapsed": true
   },
   "outputs": [],
   "source": [
    "media_sentiment_df.to_csv('NewsSentiment.csv',index=False,header=True)"
   ]
  },
  {
   "cell_type": "code",
   "execution_count": 20,
   "metadata": {},
   "outputs": [
    {
     "data": {
      "text/html": [
       "<div>\n",
       "<style>\n",
       "    .dataframe thead tr:only-child th {\n",
       "        text-align: right;\n",
       "    }\n",
       "\n",
       "    .dataframe thead th {\n",
       "        text-align: left;\n",
       "    }\n",
       "\n",
       "    .dataframe tbody tr th {\n",
       "        vertical-align: top;\n",
       "    }\n",
       "</style>\n",
       "<table border=\"1\" class=\"dataframe\">\n",
       "  <thead>\n",
       "    <tr style=\"text-align: right;\">\n",
       "      <th></th>\n",
       "      <th>@BBC</th>\n",
       "      <th>@CBS</th>\n",
       "      <th>@CNN</th>\n",
       "      <th>@FoxNews</th>\n",
       "      <th>@nytimes</th>\n",
       "    </tr>\n",
       "  </thead>\n",
       "  <tbody>\n",
       "    <tr>\n",
       "      <th>0</th>\n",
       "      <td>0.5707</td>\n",
       "      <td>0.2500</td>\n",
       "      <td>-0.5106</td>\n",
       "      <td>0.0000</td>\n",
       "      <td>-0.1280</td>\n",
       "    </tr>\n",
       "    <tr>\n",
       "      <th>1</th>\n",
       "      <td>0.0000</td>\n",
       "      <td>0.1867</td>\n",
       "      <td>-0.2732</td>\n",
       "      <td>-0.4939</td>\n",
       "      <td>0.4939</td>\n",
       "    </tr>\n",
       "    <tr>\n",
       "      <th>2</th>\n",
       "      <td>-0.2129</td>\n",
       "      <td>0.5423</td>\n",
       "      <td>0.0000</td>\n",
       "      <td>-0.4019</td>\n",
       "      <td>-0.7832</td>\n",
       "    </tr>\n",
       "    <tr>\n",
       "      <th>3</th>\n",
       "      <td>0.0000</td>\n",
       "      <td>0.6114</td>\n",
       "      <td>0.5423</td>\n",
       "      <td>0.0000</td>\n",
       "      <td>-0.2960</td>\n",
       "    </tr>\n",
       "    <tr>\n",
       "      <th>4</th>\n",
       "      <td>0.0000</td>\n",
       "      <td>0.5106</td>\n",
       "      <td>0.5859</td>\n",
       "      <td>0.0000</td>\n",
       "      <td>0.0000</td>\n",
       "    </tr>\n",
       "    <tr>\n",
       "      <th>5</th>\n",
       "      <td>0.0000</td>\n",
       "      <td>0.0000</td>\n",
       "      <td>0.0000</td>\n",
       "      <td>0.0516</td>\n",
       "      <td>0.0000</td>\n",
       "    </tr>\n",
       "    <tr>\n",
       "      <th>6</th>\n",
       "      <td>0.5697</td>\n",
       "      <td>0.5093</td>\n",
       "      <td>0.0164</td>\n",
       "      <td>-0.4404</td>\n",
       "      <td>0.3612</td>\n",
       "    </tr>\n",
       "    <tr>\n",
       "      <th>7</th>\n",
       "      <td>-0.3400</td>\n",
       "      <td>0.0000</td>\n",
       "      <td>0.4939</td>\n",
       "      <td>0.0000</td>\n",
       "      <td>0.0000</td>\n",
       "    </tr>\n",
       "    <tr>\n",
       "      <th>8</th>\n",
       "      <td>0.0000</td>\n",
       "      <td>0.5562</td>\n",
       "      <td>0.0516</td>\n",
       "      <td>0.0000</td>\n",
       "      <td>-0.3182</td>\n",
       "    </tr>\n",
       "    <tr>\n",
       "      <th>9</th>\n",
       "      <td>0.8122</td>\n",
       "      <td>0.5550</td>\n",
       "      <td>0.0000</td>\n",
       "      <td>0.8316</td>\n",
       "      <td>0.0000</td>\n",
       "    </tr>\n",
       "  </tbody>\n",
       "</table>\n",
       "</div>"
      ],
      "text/plain": [
       "     @BBC    @CBS    @CNN  @FoxNews  @nytimes\n",
       "0  0.5707  0.2500 -0.5106    0.0000   -0.1280\n",
       "1  0.0000  0.1867 -0.2732   -0.4939    0.4939\n",
       "2 -0.2129  0.5423  0.0000   -0.4019   -0.7832\n",
       "3  0.0000  0.6114  0.5423    0.0000   -0.2960\n",
       "4  0.0000  0.5106  0.5859    0.0000    0.0000\n",
       "5  0.0000  0.0000  0.0000    0.0516    0.0000\n",
       "6  0.5697  0.5093  0.0164   -0.4404    0.3612\n",
       "7 -0.3400  0.0000  0.4939    0.0000    0.0000\n",
       "8  0.0000  0.5562  0.0516    0.0000   -0.3182\n",
       "9  0.8122  0.5550  0.0000    0.8316    0.0000"
      ]
     },
     "execution_count": 20,
     "metadata": {},
     "output_type": "execute_result"
    }
   ],
   "source": [
    "sentiments_df = pd.DataFrame(sentiment_list)\n",
    "sentiments_df.head(10)"
   ]
  },
  {
   "cell_type": "code",
   "execution_count": 21,
   "metadata": {},
   "outputs": [
    {
     "data": {
      "image/png": "[encoded data removed]",
      "text/plain": [
       "<matplotlib.figure.Figure at 0x142b230aa90>"
      ]
     },
     "metadata": {},
     "output_type": "display_data"
    }
   ],
   "source": [
    "bbc, = plt.plot(np.arange(len(sentiments_df)),sentiments_df['@BBC'],marker=\"o\", linewidth=0,alpha=0.8,color='r',label='BBC')\n",
    "cbs, = plt.plot(np.arange(len(sentiments_df)),sentiments_df['@CBS'],marker=\"o\", linewidth=0,alpha=0.8,color='b',label='CBS')\n",
    "cnn, = plt.plot(np.arange(len(sentiments_df)),sentiments_df['@CNN'],marker=\"o\", linewidth=0,alpha=0.8,color='m',label='CNN')\n",
    "fox, = plt.plot(np.arange(len(sentiments_df)),sentiments_df['@FoxNews'],marker=\"o\", linewidth=0,alpha=0.8,color='g',label='FOX')\n",
    "nyt, = plt.plot(np.arange(len(sentiments_df)),sentiments_df['@nytimes'],marker=\"o\", linewidth=0,alpha=0.8,color='y',label='NYT')\n",
    "\n",
    "plt.grid(True)\n",
    "plt.legend(handles=[bbc,cbs,cnn,fox,nyt],bbox_to_anchor=(1, 1))\n",
    "plt.title('Sentiment Analysis of News Outlets')\n",
    "plt.xlabel('Tweets Ago')\n",
    "plt.ylabel('Tweet Polarity')\n",
    "plt.savefig('news_media_sentiment.png')\n",
    "plt.show()"
   ]
  },
  {
   "cell_type": "code",
   "execution_count": 22,
   "metadata": {},
   "outputs": [
    {
     "data": {
      "image/png": "[encoded data removed]",
      "text/plain": [
       "<matplotlib.figure.Figure at 0x142b2318668>"
      ]
     },
     "metadata": {},
     "output_type": "display_data"
    }
   ],
   "source": [
    "compound_average = [sentiments_df['@BBC'].mean(),sentiments_df['@CBS'].mean(),sentiments_df['@CNN'].mean(),\n",
    "                    sentiments_df['@FoxNews'].mean(),sentiments_df['@nytimes'].mean()]\n",
    "\n",
    "objects = ('BBC','CBS','CNN','FOX','NYT')\n",
    "axis = np.arange(len(objects))\n",
    "chart = plt.bar(axis,compound_average,align='center',alpha=0.5)\n",
    "chart[0].set_color('r')\n",
    "chart[1].set_color('b')\n",
    "chart[2].set_color('g')\n",
    "chart[3].set_color('yellow')\n",
    "chart[4].set_color('k')\n",
    "plt.xticks(axis,objects)\n",
    "plt.ylim(-0.2,0.5)\n",
    "plt.title('Overall Media Sentiment bases on Twitter')\n",
    "plt.ylabel('Tweet Polarity')\n",
    "plt.savefig('media_sentiment_barchart.png')\n",
    "plt.show()"
   ]
  },
  {
   "cell_type": "code",
   "execution_count": null,
   "metadata": {
    "collapsed": true
   },
   "outputs": [],
   "source": []
  },
  {
   "cell_type": "code",
   "execution_count": null,
   "metadata": {
    "collapsed": true
   },
   "outputs": [],
   "source": []
  }
 ],
 "metadata": {
  "kernelspec": {
   "display_name": "Python [conda env:PythonData]",
   "language": "python",
   "name": "conda-env-PythonData-py"
  },
  "language_info": {
   "codemirror_mode": {
    "name": "ipython",
    "version": 3
   },
   "file_extension": ".py",
   "mimetype": "text/x-python",
   "name": "python",
   "nbconvert_exporter": "python",
   "pygments_lexer": "ipython3",
   "version": "3.6.3"
  }
 },
 "nbformat": 4,
 "nbformat_minor": 2
}
